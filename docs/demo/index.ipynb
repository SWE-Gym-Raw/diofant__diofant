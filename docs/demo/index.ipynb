{
 "cells": [
  {
   "cell_type": "markdown",
   "id": "favorite-mount",
   "metadata": {},
   "source": [
    "Install the Diofant:"
   ]
  },
  {
   "cell_type": "code",
   "execution_count": null,
   "id": "bored-faith",
   "metadata": {},
   "outputs": [],
   "source": [
    "%%sh\n",
    "pip install .[gmpy,plot,exports]"
   ]
  },
  {
   "cell_type": "markdown",
   "id": "appreciated-visiting",
   "metadata": {},
   "source": [
    "Add default imports for an interactive session:"
   ]
  },
  {
   "cell_type": "code",
   "execution_count": null,
   "id": "flush-dressing",
   "metadata": {},
   "outputs": [],
   "source": [
    "from diofant import *\n",
    "a, b, c, d, t, x, y, z = symbols('a:d t x:z')\n",
    "k, m, n = symbols('k m n', integer=True)\n",
    "f, g, h = symbols('f:h', cls=Function)"
   ]
  }
 ],
 "metadata": {
  "kernelspec": {
   "display_name": "Diofant (dev)",
   "language": "python",
   "name": "dev"
  },
  "language_info": {
   "codemirror_mode": {
    "name": "ipython",
    "version": 3
   },
   "file_extension": ".py",
   "mimetype": "text/x-python",
   "name": "python",
   "nbconvert_exporter": "python",
   "pygments_lexer": "ipython3",
   "version": "3.9.2"
  }
 },
 "nbformat": 4,
 "nbformat_minor": 5
}
